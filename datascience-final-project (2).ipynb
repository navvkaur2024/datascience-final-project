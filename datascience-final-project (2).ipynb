{
 "cells": [
  {
   "cell_type": "code",
   "execution_count": null,
   "id": "d4abfcdf-b302-49bd-ace3-b93867aa818b",
   "metadata": {},
   "outputs": [],
   "source": [
    "# Final Project - Data Science Tools and Ecosystem"
   ]
  },
  {
   "cell_type": "code",
   "execution_count": null,
   "id": "23b3e48a-ec90-407e-aecc-867e6979b69f",
   "metadata": {},
   "outputs": [],
   "source": [
    "In this notebook, we will explore some of the basic concepts, tools, and languages used in the field of Data Science. This project includes lists of languages, libraries, tools, and simple arithmetic operations."
   ]
  },
  {
   "cell_type": "code",
   "execution_count": null,
   "id": "03da6308-b62e-4c4f-bcf1-1b733fa87d60",
   "metadata": {},
   "outputs": [],
   "source": [
    "## Data Science Languages\n",
    "\n",
    "Some of the popular languages that Data Scientists use are:\n",
    "\n",
    "- Python\n",
    "- R\n",
    "- SQL\n",
    "- Julia\n",
    "- Scala\n",
    "- Java\n",
    "- C++\n"
   ]
  },
  {
   "cell_type": "code",
   "execution_count": null,
   "id": "3489d377-a109-4a45-b83a-145b48c45fdf",
   "metadata": {},
   "outputs": [],
   "source": [
    "## Data Science Libraries\n",
    "\n",
    "Some of the commonly used libraries used by Data Scientists include:\n",
    "\n",
    "- NumPy\n",
    "- Pandas\n",
    "- Matplotlib\n",
    "- Seaborn\n",
    "- SciPy\n",
    "- Scikit-learn\n",
    "- TensorFlow\n",
    "- Keras\n",
    "- PyTorch\n"
   ]
  },
  {
   "cell_type": "code",
   "execution_count": null,
   "id": "d91f9f81-25a1-465f-b473-d530590b36eb",
   "metadata": {},
   "outputs": [],
   "source": [
    "## Data Science Tools\n",
    "\n",
    "| Category | Tool |\n",
    "| -------- | ---- |\n",
    "| Data Analysis | Pandas |\n",
    "| Machine Learning | Scikit-learn |\n",
    "| Deep Learning | TensorFlow, Keras, PyTorch |\n",
    "| Data Visualization | Matplotlib, Seaborn |\n",
    "| Big Data | Hadoop, Spark |\n",
    "| Cloud Platforms | AWS, Azure, IBM Cloud |\n"
   ]
  },
  {
   "cell_type": "code",
   "execution_count": null,
   "id": "b754acb8-a572-4078-b744-a65ce1bc5763",
   "metadata": {},
   "outputs": [],
   "source": [
    "## Introduction to Arithmetic Expressions\n",
    "\n",
    "Below are examples of simple arithmetic expressions using Python.\n"
   ]
  },
  {
   "cell_type": "code",
   "execution_count": null,
   "id": "f912a3c6-6008-4ad1-baba-48b5427242ec",
   "metadata": {},
   "outputs": [],
   "source": [
    "# This is a simple arithmetic expression to multiply then add integers\n",
    "(3 * 4) + 5\n"
   ]
  },
  {
   "cell_type": "code",
   "execution_count": null,
   "id": "7c58433c-a7b9-4c90-8c40-70c376c08bda",
   "metadata": {},
   "outputs": [],
   "source": [
    "# This will convert 200 minutes to hours by dividing by 60\n",
    "minutes = 200\n",
    "hours = minutes / 60\n",
    "hours\n"
   ]
  },
  {
   "cell_type": "code",
   "execution_count": null,
   "id": "f01256e3-9642-45ed-97e2-8fc4a0d41c32",
   "metadata": {},
   "outputs": [],
   "source": [
    "## Objectives\n",
    "\n",
    "The objectives of this notebook are:\n",
    "\n",
    "- List popular languages used in Data Science.\n",
    "- List commonly used libraries in Data Science.\n",
    "- List some of the tools used in Data Science.\n",
    "- Demonstrate basic arithmetic expressions.\n",
    "- Perform unit conversions using Python code.\n"
   ]
  },
  {
   "cell_type": "code",
   "execution_count": null,
   "id": "f3183153-5ca0-4b9e-9148-0befc98a772c",
   "metadata": {},
   "outputs": [],
   "source": [
    "## Author\n",
    "\n",
    "Disha Kankarwal\n"
   ]
  }
 ],
 "metadata": {
  "kernelspec": {
   "display_name": "Python 3 (ipykernel)",
   "language": "python",
   "name": "python3"
  },
  "language_info": {
   "codemirror_mode": {
    "name": "ipython",
    "version": 3
   },
   "file_extension": ".py",
   "mimetype": "text/x-python",
   "name": "python",
   "nbconvert_exporter": "python",
   "pygments_lexer": "ipython3",
   "version": "3.12.7"
  }
 },
 "nbformat": 4,
 "nbformat_minor": 5
}
